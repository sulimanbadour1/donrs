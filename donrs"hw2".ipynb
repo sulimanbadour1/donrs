{
  "nbformat": 4,
  "nbformat_minor": 0,
  "metadata": {
    "colab": {
      "name": "Untitled4.ipynb",
      "provenance": [],
      "authorship_tag": "ABX9TyOz1+OQfTwabTHAFZOscVyW",
      "include_colab_link": true
    },
    "kernelspec": {
      "name": "python3",
      "display_name": "Python 3"
    }
  },
  "cells": [
    {
      "cell_type": "markdown",
      "metadata": {
        "id": "view-in-github",
        "colab_type": "text"
      },
      "source": [
        "<a href=\"https://colab.research.google.com/github/sulimanbadour1/donrs/blob/master/donrs%22hw2%22.ipynb\" target=\"_parent\"><img src=\"https://colab.research.google.com/assets/colab-badge.svg\" alt=\"Open In Colab\"/></a>"
      ]
    },
    {
      "cell_type": "code",
      "metadata": {
        "id": "c2UaoUpmNhSO"
      },
      "source": [
        "import numpy as np \n",
        "import sympy as sym  \n",
        "from math import cos, radians, sin\n",
        "from numpy import matrix"
      ],
      "execution_count": null,
      "outputs": []
    },
    {
      "cell_type": "code",
      "metadata": {
        "id": "7WFS3_7xQLXB"
      },
      "source": [
        "def rotate(axis, theta, angular_units='radians'):\n",
        "    '''Compute Basic Homogeneous Transform Matrix for\n",
        "    rotation of \"theta\" about specified axis.'''\n",
        "    #Verify string arguments are lowercase\n",
        "    axis=axis.lower()\n",
        "    angular_units=angular_units.lower()\n",
        "    #Convert to radians if necessary\n",
        "    if angular_units=='degrees':\n",
        "        theta=radians(theta)\n",
        "    elif angular_units=='radians':\n",
        "        pass\n",
        "    else:\n",
        "        raise Exception('Unknown angular units.  Please use radians or degrees.')\n",
        "    #Select appropriate basic homogenous matrix\n",
        "    if axis=='x':\n",
        "        rotation_matrix=matrix([[1, 0, 0, 0],\n",
        "                               [0, cos(theta), -sin(theta), 0],\n",
        "                               [0, sin(theta), cos(theta), 0],\n",
        "                               [0, 0, 0, 1]])\n",
        "    elif axis=='y':\n",
        "        rotation_matrix=matrix([[cos(theta), 0, sin(theta), 0],\n",
        "                               [0, 1, 0, 0],\n",
        "                               [-sin(theta), 0, cos(theta), 0],\n",
        "                               [0, 0, 0, 1]])  \n",
        "    elif axis=='z':\n",
        "        rotation_matrix=matrix([[cos(theta), -sin(theta), 0, 0],\n",
        "                               [sin(theta), cos(theta), 0, 0],\n",
        "                               [0, 0, 1, 0],\n",
        "                               [0, 0, 0, 1]])\n",
        "    else:\n",
        "        raise Exception('Unknown axis of rotation.  Please use x, y, or z.')\n",
        "    return rotation_matrix"
      ],
      "execution_count": null,
      "outputs": []
    },
    {
      "cell_type": "code",
      "metadata": {
        "id": "yXVKTLuZQLL2"
      },
      "source": [
        "def translate(axis, d):\n",
        "    '''Calculate Basic Homogeneous Transform Matrix for\n",
        "    translation of \"d\" along specified axis.'''  \n",
        "    #Verify axis is lowercase\n",
        "    axis=axis.lower()\n",
        "    #Select appropriate basic homogenous matrix\n",
        "    if axis=='x':\n",
        "        translation_matrix=matrix([[1, 0, 0, d],\n",
        "                                  [0, 1, 0, 0],\n",
        "                                  [0, 0, 1, 0],\n",
        "                                  [0, 0, 0, 1]])\n",
        "    elif axis=='y':\n",
        "        translation_matrix=matrix([[1, 0, 0, 0],\n",
        "                                  [0, 1, 0, d],\n",
        "                                  [0, 0, 1, 0],\n",
        "                                  [0, 0, 0, 1]])\n",
        "    elif axis=='z':\n",
        "        translation_matrix=matrix([[1, 0, 0, 0],\n",
        "                                  [0, 1, 0, 0],\n",
        "                                  [0, 0, 1, d],\n",
        "                                  [0, 0, 0, 1]])\n",
        "    else:\n",
        "        raise Exception('Unknown axis of translation.  Please use x, y, or z.')\n",
        "    return translation_matrix"
      ],
      "execution_count": null,
      "outputs": []
    },
    {
      "cell_type": "code",
      "metadata": {
        "id": "X_SnDZerROoa"
      },
      "source": [
        "q1 = sym.Symbol('q1')\n",
        "q2 = sym.Symbol('q2')\n",
        "q3 = sym.Symbol('q3')\n",
        "q4 = sym.Symbol('q4')\n",
        "q5 = sym.Symbol('q5')\n",
        "q6 = sym.Symbol('q6')"
      ],
      "execution_count": null,
      "outputs": []
    },
    {
      "cell_type": "code",
      "metadata": {
        "id": "EzsFyC_vQNiV",
        "outputId": "61bef398-2ec7-43e2-f22c-b4672fc8559e",
        "colab": {
          "base_uri": "https://localhost:8080/",
          "height": 85
        }
      },
      "source": [
        "#Calculate arbitrary homogeneous transformation matrix for CF0 to CF3\n",
        "H0_1=rotate('z', 0, 'degrees')*translate('z', 1)\n",
        "H1_2=translate('x', 1)*rotate('y', 0, 'degrees')*translate('z' ,1 )\n",
        "H2_3=rotate('y', 0, 'degrees')*translate('z', 1)\n",
        "H3_4=rotate('x',0,'degrees')*translate('x',1)*rotate('y',0,'degrees')*rotate('x',90,'degrees')\n",
        "H4_5=translate('x',1)\n",
        "H0_3=H0_1*H1_2*H2_3*H3_4*H4_5\n",
        "print(H0_3)"
      ],
      "execution_count": null,
      "outputs": [
        {
          "output_type": "stream",
          "text": [
            "[[ 1.000000e+00  0.000000e+00  0.000000e+00  3.000000e+00]\n",
            " [ 0.000000e+00  6.123234e-17 -1.000000e+00  0.000000e+00]\n",
            " [ 0.000000e+00  1.000000e+00  6.123234e-17  3.000000e+00]\n",
            " [ 0.000000e+00  0.000000e+00  0.000000e+00  1.000000e+00]]\n"
          ],
          "name": "stdout"
        }
      ]
    },
    {
      "cell_type": "code",
      "metadata": {
        "id": "uqebuYgdV1d4",
        "outputId": "5a5d0f29-28ee-4bef-c22b-bd9b0efdfbfd",
        "colab": {
          "base_uri": "https://localhost:8080/",
          "height": 85
        }
      },
      "source": [
        "#Calculate arbitrary homogeneous transformation matrix for CF0 to CF3\n",
        "H0_1=rotate('z', 0, 'degrees')*translate('z', 0)\n",
        "H1_2=translate('x', 0)*rotate('y', 0, 'degrees')*translate('z' ,0 )\n",
        "H2_3=rotate('y', 0, 'degrees')*translate('z', 0)\n",
        "H3_4=rotate('Z',0,'degrees')*translate('x',0)*rotate('y',-180,'degrees')*rotate('x',-90,'degrees')\n",
        "H4_5=translate('x',0)\n",
        "H0_3=H0_1*H1_2*H2_3*H3_4*H4_5\n",
        "print(H0_3)"
      ],
      "execution_count": null,
      "outputs": [
        {
          "output_type": "stream",
          "text": [
            "[[-1.00000000e+00  1.22464680e-16 -7.49879891e-33  0.00000000e+00]\n",
            " [ 0.00000000e+00  6.12323400e-17  1.00000000e+00  0.00000000e+00]\n",
            " [ 1.22464680e-16  1.00000000e+00 -6.12323400e-17  0.00000000e+00]\n",
            " [ 0.00000000e+00  0.00000000e+00  0.00000000e+00  1.00000000e+00]]\n"
          ],
          "name": "stdout"
        }
      ]
    },
    {
      "cell_type": "code",
      "metadata": {
        "id": "nEJS11I4XFNx",
        "outputId": "b89b13db-b292-445b-caaf-a2e8e9e5e074",
        "colab": {
          "base_uri": "https://localhost:8080/",
          "height": 153
        }
      },
      "source": [
        "#Calculate arbitrary homogeneous transformation matrix for CF0 to CF3\n",
        "H0_1=rotate('x', -90, 'degrees')\n",
        "H1_2=rotate('z', 90, 'degrees')\n",
        "#H2_3=rotate('y', 0, 'degrees')*translate('z', 0)\n",
        "H0_3=H0_1*H1_2\n",
        "print(H0_1)\n",
        "print(H0_3)"
      ],
      "execution_count": null,
      "outputs": [
        {
          "output_type": "stream",
          "text": [
            "[[ 1.000000e+00  0.000000e+00  0.000000e+00  0.000000e+00]\n",
            " [ 0.000000e+00  6.123234e-17  1.000000e+00  0.000000e+00]\n",
            " [ 0.000000e+00 -1.000000e+00  6.123234e-17  0.000000e+00]\n",
            " [ 0.000000e+00  0.000000e+00  0.000000e+00  1.000000e+00]]\n",
            "[[ 6.12323400e-17 -1.00000000e+00  0.00000000e+00  0.00000000e+00]\n",
            " [ 6.12323400e-17  3.74939946e-33  1.00000000e+00  0.00000000e+00]\n",
            " [-1.00000000e+00 -6.12323400e-17  6.12323400e-17  0.00000000e+00]\n",
            " [ 0.00000000e+00  0.00000000e+00  0.00000000e+00  1.00000000e+00]]\n"
          ],
          "name": "stdout"
        }
      ]
    },
    {
      "cell_type": "code",
      "metadata": {
        "id": "A50R7cpyZHmq",
        "outputId": "d852c6b1-ec2f-4168-a8a1-9d61996bd08d",
        "colab": {
          "base_uri": "https://localhost:8080/",
          "height": 85
        }
      },
      "source": [
        "#Calculate arbitrary homogeneous transformation matrix for CF0 to CF3\n",
        "H0_1=rotate('Z', -90, 'degrees')*translate('z', 0)\n",
        "H1_2=rotate('Y', -90, 'degrees')*translate('X', 0)\n",
        "#H2_3=rotate('y', 0, 'degrees')*translate('z', 0)\n",
        "H0_2=H1_2*H0_1\n",
        "print(H0_2)"
      ],
      "execution_count": null,
      "outputs": [
        {
          "output_type": "stream",
          "text": [
            "[[ 6.12323400e-17 -6.12323400e-17 -1.00000000e+00  0.00000000e+00]\n",
            " [ 1.00000000e+00  3.74939946e-33  6.12323400e-17  0.00000000e+00]\n",
            " [ 0.00000000e+00 -1.00000000e+00  6.12323400e-17  0.00000000e+00]\n",
            " [ 0.00000000e+00  0.00000000e+00  0.00000000e+00  1.00000000e+00]]\n"
          ],
          "name": "stdout"
        }
      ]
    },
    {
      "cell_type": "code",
      "metadata": {
        "id": "zlJYfNfktxrQ"
      },
      "source": [
        "q1 = sym.Symbol('q1')\n",
        "q2 = sym.Symbol('q2')\n",
        "q3 = sym.Symbol('q3')\n",
        "q4 = sym.Symbol('q4')\n",
        "q5 = sym.Symbol('q5')\n",
        "q6 = sym.Symbol('q6')\n",
        "\n",
        "cos = sym.Symbol('cos')\n",
        "sin = sym.Symbol('sin')\n",
        "\n",
        "x = sym.Symbol('x')\n",
        "y = sym.Symbol('y')\n",
        "z = sym.Symbol('z')"
      ],
      "execution_count": null,
      "outputs": []
    },
    {
      "cell_type": "code",
      "metadata": {
        "id": "m5yucajIt25M"
      },
      "source": [
        "rot_z = [[cos*q1,-sin*q1,0,0],[sin*q1,cos*q1,0,0],[0,0,1,0],[0,0,0,1]]\n",
        "rot_x = [[1,0,0,0], [0,cos*q1,-sin*q1,0,],[0, sin*q1,cos*q1,0,0],[0,0,0,1]]\n",
        "rot_y =[[cos*q1,0,sin*q1,0,],[0,1,0,0],[-sin*q1,0,cos*q1,0,0],[0,0,0,1]]"
      ],
      "execution_count": null,
      "outputs": []
    },
    {
      "cell_type": "code",
      "metadata": {
        "id": "qwr6mPXJv8Nd"
      },
      "source": [
        "rot_y2 =[[cos*q2,0,sin*q2,0,],[0,1,0,0],[-sin*q2,0,cos*q2,0,0],[0,0,0,1]]"
      ],
      "execution_count": null,
      "outputs": []
    },
    {
      "cell_type": "code",
      "metadata": {
        "id": "ew2gqn3WwNGd"
      },
      "source": [
        "rot_y3 =[[cos*q3,0,sin*q3,0,],[0,1,0,0],[-sin*q3,0,cos*q3,0,0],[0,0,0,1]]"
      ],
      "execution_count": null,
      "outputs": []
    },
    {
      "cell_type": "code",
      "metadata": {
        "id": "g0bCvpCywjs3"
      },
      "source": [
        "rot_x4 = [[1,0,0,0], [0,cos*q4,-sin*q4,0,],[0, sin*q4,cos*q4,0,0],[0,0,0,1]]"
      ],
      "execution_count": null,
      "outputs": []
    },
    {
      "cell_type": "code",
      "metadata": {
        "id": "y9JfDC6Ywyjm"
      },
      "source": [
        "rot_y5 =[[cos*q5,0,sin*q5,0,],[0,1,0,0],[-sin*q5,0,cos*q5,0,0],[0,0,0,1]]"
      ],
      "execution_count": null,
      "outputs": []
    },
    {
      "cell_type": "code",
      "metadata": {
        "id": "vBH2UvC7w6iG"
      },
      "source": [
        "rot_x6 = [[1,0,0,0], [0,cos*q6,-sin*q6,0,],[0, sin*q6,cos*q6,0,0],[0,0,0,1]]"
      ],
      "execution_count": null,
      "outputs": []
    },
    {
      "cell_type": "code",
      "metadata": {
        "id": "-oY5hy1mvA5q"
      },
      "source": [
        "tr_x = [[1,0,0,1],[0,1,0,0],[0,0,1,0],[0,0,0,1]]\n",
        "tr_y = [[1,0,0,0],[0,1,0,1],[0,0,1,0],[0,0,0,1]]\n",
        "tr_z = [[1,0,0,0],[0,1,0,0],[0,0,1,1],[0,0,0,1]]"
      ],
      "execution_count": null,
      "outputs": []
    },
    {
      "cell_type": "markdown",
      "metadata": {
        "id": "b4sbVvwenoBl"
      },
      "source": [
        "H=RZ(Q1)*TZ(D1)*TX(A1)RY(Q2)*TZ(A2)*RY(-Q3)*TZ(A3)*RX(-Q4)*TX(D4)*RY(-Q5)*RX(-Q6)*TX(D6)\n"
      ]
    },
    {
      "cell_type": "code",
      "metadata": {
        "id": "kCSWXeEWvd6p",
        "outputId": "77df5d60-f4a6-4a13-9543-df9dff6fab7e",
        "colab": {
          "base_uri": "https://localhost:8080/",
          "height": 163
        }
      },
      "source": [
        "H=rot_z*tr_z*tr_x*rot_y2*tr_z*rot_y3*tr_z*rot_x4*tr_x*rot_y5*rot_x6 # not "
      ],
      "execution_count": null,
      "outputs": [
        {
          "output_type": "error",
          "ename": "TypeError",
          "evalue": "ignored",
          "traceback": [
            "\u001b[0;31m---------------------------------------------------------------------------\u001b[0m",
            "\u001b[0;31mTypeError\u001b[0m                                 Traceback (most recent call last)",
            "\u001b[0;32m<ipython-input-51-684cc531fe68>\u001b[0m in \u001b[0;36m<module>\u001b[0;34m()\u001b[0m\n\u001b[0;32m----> 1\u001b[0;31m \u001b[0mH\u001b[0m\u001b[0;34m=\u001b[0m\u001b[0mrot_z\u001b[0m\u001b[0;34m*\u001b[0m\u001b[0mtr_z\u001b[0m\u001b[0;34m*\u001b[0m\u001b[0mtr_x\u001b[0m\u001b[0;34m*\u001b[0m\u001b[0mrot_y2\u001b[0m\u001b[0;34m*\u001b[0m\u001b[0mtr_z\u001b[0m\u001b[0;34m*\u001b[0m\u001b[0mrot_y3\u001b[0m\u001b[0;34m*\u001b[0m\u001b[0mtr_z\u001b[0m\u001b[0;34m*\u001b[0m\u001b[0mrot_x4\u001b[0m\u001b[0;34m*\u001b[0m\u001b[0mtr_x\u001b[0m\u001b[0;34m*\u001b[0m\u001b[0mrot_y5\u001b[0m\u001b[0;34m*\u001b[0m\u001b[0mrot_x6\u001b[0m\u001b[0;34m\u001b[0m\u001b[0;34m\u001b[0m\u001b[0m\n\u001b[0m",
            "\u001b[0;31mTypeError\u001b[0m: can't multiply sequence by non-int of type 'list'"
          ]
        }
      ]
    },
    {
      "cell_type": "markdown",
      "metadata": {
        "id": "7BUqDFD-ZNYA"
      },
      "source": [
        "#HERE IS THE LAST MATRIX \"FK\".\n",
        "\n"
      ]
    },
    {
      "cell_type": "markdown",
      "metadata": {
        "id": "90EWo3t54RAx"
      },
      "source": [
        "[ cos(q5)*(cos(q1)*cos(q2)*cos(q3) + cos(q1)*sin(q2)*sin(q3)) - sin(q5)*(sin(q1)*sin(q4) + cos(q4)*(cos(q1)*cos(q2)*sin(q3) - cos(q1)*cos(q3)*sin(q2))), sin(q6)*(cos(q5)*(sin(q1)*sin(q4) + cos(q4)*(cos(q1)*cos(q2)*sin(q3) - cos(q1)*cos(q3)*sin(q2))) + sin(q5)*(cos(q1)*cos(q2)*cos(q3) + cos(q1)*sin(q2)*sin(q3))) - cos(q6)*(cos(q4)*sin(q1) - sin(q4)*(cos(q1)*cos(q2)*sin(q3) - cos(q1)*cos(q3)*sin(q2))), - sin(q6)*(cos(q4)*sin(q1) - sin(q4)*(cos(q1)*cos(q2)*sin(q3) - cos(q1)*cos(q3)*sin(q2))) - cos(q6)*(cos(q5)*(sin(q1)*sin(q4) + cos(q4)*(cos(q1)*cos(q2)*sin(q3) - cos(q1)*cos(q3)*sin(q2))) + sin(q5)*(cos(q1)*cos(q2)*cos(q3) + cos(q1)*sin(q2)*sin(q3))), cos(q1)*(a1 + a2*sin(q2) + d4*cos(q2 - q3) + a3*sin(q2 - q3))]\n",
        "[ sin(q5)*(cos(q1)*sin(q4) - cos(q4)*(cos(q2)*sin(q1)*sin(q3) - cos(q3)*sin(q1)*sin(q2))) + cos(q5)*(sin(q1)*sin(q2)*sin(q3) + cos(q2)*cos(q3)*sin(q1)), cos(q6)*(cos(q1)*cos(q4) + sin(q4)*(cos(q2)*sin(q1)*sin(q3) - cos(q3)*sin(q1)*sin(q2))) - sin(q6)*(cos(q5)*(cos(q1)*sin(q4) - cos(q4)*(cos(q2)*sin(q1)*sin(q3) - cos(q3)*sin(q1)*sin(q2))) - sin(q5)*(sin(q1)*sin(q2)*sin(q3) + cos(q2)*cos(q3)*sin(q1))),   sin(q6)*(cos(q1)*cos(q4) + sin(q4)*(cos(q2)*sin(q1)*sin(q3) - cos(q3)*sin(q1)*sin(q2))) + cos(q6)*(cos(q5)*(cos(q1)*sin(q4) - cos(q4)*(cos(q2)*sin(q1)*sin(q3) - cos(q3)*sin(q1)*sin(q2))) - sin(q5)*(sin(q1)*sin(q2)*sin(q3) + cos(q2)*cos(q3)*sin(q1))), sin(q1)*(a1 + a2*sin(q2) + d4*cos(q2 - q3) + a3*sin(q2 - q3))]\n",
        "[                                                                                                   cos(q2 - q3)*cos(q4)*sin(q5) - sin(q2 - q3)*cos(q5),                                                                                                                                                            - sin(q6)*(sin(q2 - q3)*sin(q5) + cos(q2 - q3)*cos(q4)*cos(q5)) - cos(q2 - q3)*cos(q6)*sin(q4),                                                                                                                                                                cos(q6)*(sin(q2 - q3)*sin(q5) + cos(q2 - q3)*cos(q4)*cos(q5)) - cos(q2 - q3)*sin(q4)*sin(q6),           d1 + a2*cos(q2) + a3*cos(q2 - q3) - d4*sin(q2 - q3)]\n",
        "[                                                                                                                                                     0,                                                                                                                                                                                                                                                         0,                                                                                                                                                                                                                                                           0,                                                             1]\n"
      ]
    },
    {
      "cell_type": "markdown",
      "metadata": {
        "id": "H-yf_xjs4Q1c"
      },
      "source": [
        ""
      ]
    }
  ]
}